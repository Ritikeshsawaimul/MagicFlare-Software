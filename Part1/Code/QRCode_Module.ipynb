{
 "cells": [
  {
   "cell_type": "code",
   "execution_count": 4,
   "metadata": {},
   "outputs": [
    {
     "name": "stdout",
     "output_type": "stream",
     "text": [
      "[Decoded(data=b'0123456789012', type='EAN13', rect=Rect(left=117, top=10, width=1009, height=595), polygon=[Point(x=117, y=11), Point(x=117, y=605), Point(x=605, y=605), Point(x=1126, y=604), Point(x=1126, y=10)])]\n"
     ]
    }
   ],
   "source": [
    "from PIL import Image\n",
    "from pyzbar.pyzbar import decode\n",
    "data = decode(Image.open('data/QRCode/aaa.jpg'))\n",
    "print(data)"
   ]
  },
  {
   "cell_type": "code",
   "execution_count": 29,
   "metadata": {},
   "outputs": [
    {
     "name": "stdout",
     "output_type": "stream",
     "text": [
      "[Decoded(data=b'8906033741441', type='EAN13', rect=Rect(left=914, top=75, width=328, height=35), polygon=[Point(x=914, y=75), Point(x=917, y=109), Point(x=1089, y=110), Point(x=1242, y=94), Point(x=1239, y=82), Point(x=1237, y=76)])]\n"
     ]
    }
   ],
   "source": [
    "from PIL import Image\n",
    "from pyzbar.pyzbar import decode\n",
    "data = decode(Image.open('data/QRCode/label16.jpeg'))\n",
    "print(data)"
   ]
  },
  {
   "cell_type": "code",
   "execution_count": 5,
   "metadata": {
    "scrolled": true
   },
   "outputs": [
    {
     "name": "stdout",
     "output_type": "stream",
     "text": [
      "[Decoded(data=b'8901233028514', type='EAN13', rect=Rect(left=498, top=437, width=290, height=89), polygon=[Point(x=498, y=521), Point(x=646, y=526), Point(x=785, y=494), Point(x=788, y=448), Point(x=647, y=437), Point(x=513, y=437), Point(x=512, y=441), Point(x=500, y=509)])]\n"
     ]
    }
   ],
   "source": [
    "from PIL import Image\n",
    "from pyzbar.pyzbar import decode\n",
    "data = decode(Image.open('data/QRCode/label14.jpeg'))\n",
    "print(data)"
   ]
  },
  {
   "cell_type": "code",
   "execution_count": 7,
   "metadata": {},
   "outputs": [
    {
     "name": "stdout",
     "output_type": "stream",
     "text": [
      "[Decoded(data=b'8906033741441', type='EAN13', rect=Rect(left=914, top=75, width=328, height=35), polygon=[Point(x=914, y=75), Point(x=917, y=109), Point(x=1089, y=110), Point(x=1242, y=94), Point(x=1239, y=82), Point(x=1237, y=76)])]\n"
     ]
    }
   ],
   "source": [
    "from PIL import Image\n",
    "from pyzbar.pyzbar import decode\n",
    "data = decode(Image.open('data/QRCode/label16.jpeg'))\n",
    "print(data)"
   ]
  },
  {
   "cell_type": "code",
   "execution_count": 1,
   "metadata": {
    "scrolled": true
   },
   "outputs": [
    {
     "name": "stdout",
     "output_type": "stream",
     "text": [
      "[Decoded(data=b'http://cokeurl.com/q/2017-00828', type='QRCODE', rect=Rect(left=176, top=164, width=155, height=157), polygon=[Point(x=176, y=166), Point(x=178, y=319), Point(x=331, y=321), Point(x=330, y=164)])]\n",
      "\n",
      "b'http://cokeurl.com/q/2017-00828'\n"
     ]
    }
   ],
   "source": [
    "from PIL import Image\n",
    "from pyzbar.pyzbar import decode\n",
    "data = decode(Image.open('data/QRCode/label17.png'))\n",
    "print(data)\n",
    "print()\n",
    "print(data[0][0])\n"
   ]
  },
  {
   "cell_type": "code",
   "execution_count": 3,
   "metadata": {},
   "outputs": [
    {
     "name": "stdout",
     "output_type": "stream",
     "text": [
      "Number of files are: 6\n",
      "\n",
      "Filename is: img23.jpeg\n",
      "Face do not contain the Barcode\n",
      "{'img23.jpeg': '0'}\n",
      "File copied successfully to path : data/Face_without_Barcode/img23.jpeg\n",
      "\n",
      "Filename is: img27.jpeg\n",
      "Face do not contain the Barcode\n",
      "{'img27.jpeg': '0'}\n",
      "File copied successfully to path : data/Face_without_Barcode/img27.jpeg\n",
      "\n",
      "Filename is: img28.jpeg\n",
      "Face do not contain the Barcode\n",
      "{'img28.jpeg': '0'}\n",
      "File copied successfully to path : data/Face_without_Barcode/img28.jpeg\n",
      "\n",
      "Filename is: img4.jpg\n",
      "Face do not contain the Barcode\n",
      "{'img4.jpg': '0'}\n",
      "File copied successfully to path : data/Face_without_Barcode/img4.jpg\n",
      "\n",
      "Filename is: img9.jpeg\n",
      "Face do not contain the Barcode\n",
      "{'img9.jpeg': '0'}\n",
      "File copied successfully to path : data/Face_without_Barcode/img9.jpeg\n",
      "\n",
      "Filename is: label17.png\n",
      "[Decoded(data=b'http://cokeurl.com/q/2017-00828', type='QRCODE', rect=Rect(left=176, top=164, width=155, height=157), polygon=[Point(x=176, y=166), Point(x=178, y=319), Point(x=331, y=321), Point(x=330, y=164)])]\n",
      "QR Code data is: b'http://cokeurl.com/q/2017-00828'\n",
      "{'label17.png': '1'}\n",
      "\n"
     ]
    }
   ],
   "source": [
    "\n",
    "class qrListDictionary(dict): \n",
    "  \n",
    "    # __init__ function \n",
    "    def __init__(self): \n",
    "        self = dict() \n",
    "          \n",
    "    # Function to add key:value \n",
    "    def add(self, key, value): \n",
    "        self[key] = value \n",
    "\n",
    "\"\"\"\n",
    "From Pillow library, Image module is imported to load an image from file.\n",
    "From pyzbar library, Decode module is imported to decode the contents of the QR code present in the given image.\n",
    "os and shutil modules are used for copying files to another directory.\n",
    "\"\"\"\n",
    "from PIL import Image\n",
    "from pyzbar.pyzbar import decode\n",
    "import os,shutil\n",
    "\n",
    "      \n",
    "path = 'data/Input_Images/'\n",
    "newdirectory='data/Output_Images/'\n",
    "\n",
    "files = os.listdir(path)\n",
    "print(\"Number of files are:\" , len(files))\n",
    "print()\n",
    "\n",
    "#read all files from directory\n",
    "for f in files:\n",
    "    print(\"Filename is:\",f)\n",
    "#get the filename extension using split()    \n",
    "    ext=os.path.splitext(f)[1] \n",
    "# open the image and decode the qrcode data\n",
    "    data = decode(Image.open(path+f))\n",
    "#dictionary to save filename and flag associated with it\n",
    "    qrcode_obj = qrListDictionary()\n",
    "#check if qrcode present in image and print the data and add it to dictionary\n",
    "    if(len(data)):\n",
    "        print(data)\n",
    "        print(\"QR Code data is:\",data[0][0])\n",
    "        qrcode_obj.add(f,'1')\n",
    "        print(qrcode_obj)\n",
    "        print()\n",
    "        \n",
    "#if qrcode not present in image then add the details into dictionary and copy the file into another path        \n",
    "    else:\n",
    "        print(\"Face do not contain the Barcode\")\n",
    "        qrcode_obj.add(f,'0')\n",
    "        print(qrcode_obj)\n",
    "#generate new directory path to copy the images\n",
    "        copypath=os.path.join(newdirectory,f)\n",
    "#check if file already exists.If NOT exists then only copy\n",
    "        checkFile=os.path.exists(copypath)\n",
    "        if not checkFile:\n",
    "            shutil.copy(path + f, copypath)\n",
    "            print(\"File copied successfully to path :\", copypath)\n",
    "        else:\n",
    "            print(\"File already exists at path: \", copypath)\n",
    "        print()\n",
    "\n",
    "\n",
    "\n",
    "\n",
    "\n"
   ]
  },
  {
   "cell_type": "code",
   "execution_count": null,
   "metadata": {},
   "outputs": [],
   "source": []
  },
  {
   "cell_type": "code",
   "execution_count": null,
   "metadata": {},
   "outputs": [],
   "source": []
  },
  {
   "cell_type": "code",
   "execution_count": null,
   "metadata": {},
   "outputs": [],
   "source": []
  }
 ],
 "metadata": {
  "kernelspec": {
   "display_name": "Python 3",
   "language": "python",
   "name": "python3"
  },
  "language_info": {
   "codemirror_mode": {
    "name": "ipython",
    "version": 3
   },
   "file_extension": ".py",
   "mimetype": "text/x-python",
   "name": "python",
   "nbconvert_exporter": "python",
   "pygments_lexer": "ipython3",
   "version": "3.7.4"
  }
 },
 "nbformat": 4,
 "nbformat_minor": 4
}
